{
 "cells": [
  {
   "cell_type": "markdown",
   "metadata": {},
   "source": [
    "# Build a neural network for the MNIST dataset using NumPy"
   ]
  },
  {
   "cell_type": "code",
   "execution_count": 1,
   "metadata": {
    "collapsed": true
   },
   "outputs": [],
   "source": [
    "from io import BytesIO\n",
    "import gzip\n",
    "import matplotlib.pyplot as plt\n",
    "import numpy as np\n",
    "import pickle\n",
    "import requests\n",
    "from utils import learn_mnist, plot_learning\n",
    "%matplotlib inline"
   ]
  },
  {
   "cell_type": "markdown",
   "metadata": {},
   "source": [
    "## Access the MNIST data"
   ]
  },
  {
   "cell_type": "code",
   "execution_count": 2,
   "metadata": {
    "collapsed": true,
    "scrolled": true
   },
   "outputs": [],
   "source": [
    "def read_mnist(dataset='train', flatten=True):\n",
    "    \"\"\"Return an iterator of images and labels.\n",
    "\n",
    "    Returns an iterator of 2-tuples with the first element a\n",
    "    numpy.float32 array of pixel data for the given image and\n",
    "    the second element the correspnding label as numpy.int64.\n",
    "\n",
    "    If flatten, each image array has shape (784,), otherwise\n",
    "    each image array has shape (28, 28).\n",
    "    \"\"\"\n",
    "    MNIST_PATH = ('http://www.iro.umontreal.ca/~lisa'\n",
    "                  '/deep/data/mnist/mnist.pkl.gz')\n",
    "    response = requests.get(MNIST_PATH)\n",
    "    content = BytesIO(response.content)\n",
    "    with gzip.open(content, 'rb') as f:\n",
    "        train_set, valid_set, test_set = pickle.load(f, encoding='bytes')\n",
    "\n",
    "    if 'train' in dataset.lower():\n",
    "        images, labels = train_set\n",
    "    elif 'valid' in dataset.lower():\n",
    "        images, labels = valid_set\n",
    "    elif 'test' in dataset.lower():\n",
    "        images, labels = test_set\n",
    "    else:\n",
    "        raise ValueError(\"dataset must be 'train', 'valid' or 'test'. \"\n",
    "                         \"Got '{}'\".format(dataset))\n",
    "    if not flatten:\n",
    "        images = images.reshape(-1, 28, 28)\n",
    "\n",
    "    return images, labels"
   ]
  },
  {
   "cell_type": "code",
   "execution_count": 3,
   "metadata": {
    "collapsed": true
   },
   "outputs": [],
   "source": [
    "## Task 1: Print the data for a single image as an array\n",
    "##"
   ]
  },
  {
   "cell_type": "code",
   "execution_count": 4,
   "metadata": {
    "collapsed": true
   },
   "outputs": [],
   "source": [
    "## Task 2: Print the dimensions of the three datasets training, validation and testing\n",
    "##"
   ]
  },
  {
   "cell_type": "code",
   "execution_count": 5,
   "metadata": {
    "collapsed": true
   },
   "outputs": [],
   "source": [
    "def show(image, label=None):\n",
    "    \"\"\"Render a given numpy.float32 array of pixel data.\"\"\"\n",
    "    fig, ax = plt.subplots()\n",
    "    plot = ax.imshow(image.reshape(28, 28),\n",
    "                     cmap=plt.cm.gray)\n",
    "    plot.set_interpolation('nearest')\n",
    "    ax.xaxis.set_ticks_position('top')\n",
    "    ax.yaxis.set_ticks_position('left')\n",
    "    # ensure label 0 is not passed as False\n",
    "    if label or label == 0.:\n",
    "        ax.set_xlabel(\"Label: {}\".format(label),\n",
    "                      size=14)\n",
    "    plt.show()"
   ]
  },
  {
   "cell_type": "code",
   "execution_count": 6,
   "metadata": {
    "collapsed": true
   },
   "outputs": [],
   "source": [
    "## Task 3: Plot the first ten images of the training data\n",
    "##"
   ]
  },
  {
   "cell_type": "markdown",
   "metadata": {},
   "source": [
    "## Define the neural network"
   ]
  },
  {
   "cell_type": "code",
   "execution_count": 7,
   "metadata": {
    "collapsed": true
   },
   "outputs": [],
   "source": [
    "def neural_network_prediction(x, W, b):\n",
    "    \"\"\"This is the entire neural net!\"\"\"\n",
    "    ## Task 4: complete the neural network \n",
    "    # y_scores =\n",
    "    # prediction = softmax(y_scores.flatten())\n",
    "    # return prediction\n",
    "\n",
    "\n",
    "def softmax(z):\n",
    "    \"\"\"Return the softmax of vector z.\n",
    "\n",
    "    The softmax returns normalized positive values.\n",
    "    It is defined as softmax(z_i) = normalise(exp(z_i))\n",
    "    = \\\\frac{exp(z_i)}{\\sum_j exp(z_j)}.\n",
    "    \"\"\"\n",
    "    z -= np.max(z)  # for numerical stability\n",
    "    exps = np.exp(z)\n",
    "    return np.divide(exps, np.sum(exps))"
   ]
  },
  {
   "cell_type": "markdown",
   "metadata": {},
   "source": [
    "## Run the network"
   ]
  },
  {
   "cell_type": "markdown",
   "metadata": {},
   "source": [
    "### Load data\n",
    "first, let's load our data"
   ]
  },
  {
   "cell_type": "code",
   "execution_count": 8,
   "metadata": {
    "collapsed": true
   },
   "outputs": [],
   "source": [
    "X_train, Y_train = read_mnist(\"train\")"
   ]
  },
  {
   "cell_type": "markdown",
   "metadata": {},
   "source": [
    "...and confirm the data is as we expect"
   ]
  },
  {
   "cell_type": "code",
   "execution_count": 9,
   "metadata": {},
   "outputs": [
    {
     "name": "stdout",
     "output_type": "stream",
     "text": [
      "A single example in our dataset =\n",
      "    a vector of length (784,) with values between 0.0 and 0.99609375,\n",
      "    and a corresponding digit label like '5'\n"
     ]
    }
   ],
   "source": [
    "img, label = (X_train[0], Y_train[0])\n",
    "print(\"\"\"A single example in our dataset =\n",
    "    a vector of length {} with values between {} and {},\n",
    "    and a corresponding digit label like '{}'\"\"\".format(img.shape,\n",
    "                                                        img.min(), img.max(),\n",
    "                                                        label))"
   ]
  },
  {
   "cell_type": "markdown",
   "metadata": {},
   "source": [
    "### Predict\n",
    "Now, let's check the neural network function runs."
   ]
  },
  {
   "cell_type": "code",
   "execution_count": 2,
   "metadata": {
    "collapsed": true
   },
   "outputs": [],
   "source": [
    "# randomly initialise params to values between -0.5 and 0.5\n",
    "W1 = np.random.random((784, 10)) - 0.5\n",
    "b1 = np.random.random((1, 10)) - 0.5"
   ]
  },
  {
   "cell_type": "code",
   "execution_count": 11,
   "metadata": {
    "collapsed": true
   },
   "outputs": [],
   "source": [
    "# generate a prediction for a single example\n",
    "label_predicted = neural_network_prediction(img, W1, b1)"
   ]
  },
  {
   "cell_type": "markdown",
   "metadata": {},
   "source": [
    "### Evaluate\n",
    "If we successfully outputted a prediction, let's see if the prediction is correct"
   ]
  },
  {
   "cell_type": "code",
   "execution_count": 12,
   "metadata": {},
   "outputs": [
    {
     "name": "stdout",
     "output_type": "stream",
     "text": [
      "None\n"
     ]
    }
   ],
   "source": [
    "def correct(y, y_pred):\n",
    "    '''Check if y_pred equals y.'''\n",
    "    ## Task 5: write a function is check if your prediction is correct\n",
    "    # is_correct = \n",
    "    # return is_correct\n",
    "\n",
    "print(correct(label, label_predicted))"
   ]
  },
  {
   "cell_type": "markdown",
   "metadata": {},
   "source": [
    "...and finally how accurate the network is on the test set"
   ]
  },
  {
   "cell_type": "code",
   "execution_count": 13,
   "metadata": {
    "collapsed": true
   },
   "outputs": [],
   "source": [
    "def error_rate_mnist(W, b, dataset='test'):\n",
    "    \"\"\"Calculate the error rate.\"\"\"\n",
    "    data_seen = 0.\n",
    "    total_correct = 0.\n",
    "    total_errors = 0.\n",
    "\n",
    "    x_data, y_data = read_mnist(dataset)\n",
    "    for x, y in zip(x_data, y_data):\n",
    "        y_pred = np.argmax(neural_network_prediction(x, W, b))\n",
    "        if y_pred == y:\n",
    "            total_correct += 1\n",
    "        else:\n",
    "            total_errors += 1\n",
    "        data_seen += 1\n",
    "\n",
    "    return total_errors / data_seen"
   ]
  },
  {
   "cell_type": "markdown",
   "metadata": {},
   "source": [
    "We expect ~90% error rate for random parameters if each digit 0-9 is represented equally in the dataset "
   ]
  },
  {
   "cell_type": "code",
   "execution_count": null,
   "metadata": {
    "collapsed": true
   },
   "outputs": [],
   "source": [
    "# Task 6: Print the error rate for your network over the test set\n",
    "##"
   ]
  },
  {
   "cell_type": "markdown",
   "metadata": {},
   "source": [
    "### If you complete all 6 tasks, here's a 'black box' function to experiment with"
   ]
  },
  {
   "cell_type": "code",
   "execution_count": null,
   "metadata": {
    "collapsed": true
   },
   "outputs": [],
   "source": [
    "# try getting the neural network to learn by changing the iterations, learning rate and batch size \n",
    "#W_learned, b_learned, losses, train_errors, test_errors = learn_mnist(W=, b=, \n",
    "#                                                                      max_iters=,\n",
    "#                                                                      learning_rate=, \n",
    "#                                                                      batch_size=)"
   ]
  },
  {
   "cell_type": "code",
   "execution_count": null,
   "metadata": {
    "collapsed": true
   },
   "outputs": [],
   "source": [
    "# See how the black box is learning\n",
    "#plot_learning(losses[1:], train_errors, test_errors)"
   ]
  },
  {
   "cell_type": "code",
   "execution_count": 3,
   "metadata": {},
   "outputs": [
    {
     "name": "stdout",
     "output_type": "stream",
     "text": [
      "Iteration 0 | Loss: 0.0005 | Train error: 0.9102 | Test error: 0.9092 | Total run time: 10.9s\n",
      "Iteration 10000 | Loss: 1.0943 | Train error: 0.1990 | Test error: 0.1871 | Total run time: 19.2s\n",
      "Iteration 20000 | Loss: 0.8588 | Train error: 0.1766 | Test error: 0.1593 | Total run time: 27.7s\n",
      "Iteration 30000 | Loss: 0.8456 | Train error: 0.1511 | Test error: 0.1384 | Total run time: 36.9s\n",
      "Iteration 40000 | Loss: 0.9847 | Train error: 0.1436 | Test error: 0.1311 | Total run time: 45.2s\n",
      "Iteration 50000 | Loss: 1.0274 | Train error: 0.1501 | Test error: 0.1374 | Total run time: 53.6s\n",
      "Iteration 60000 | Loss: 0.9860 | Train error: 0.1432 | Test error: 0.1328 | Total run time: 61.9s\n",
      "Iteration 70000 | Loss: 1.1691 | Train error: 0.1440 | Test error: 0.1331 | Total run time: 70.7s\n",
      "Iteration 80000 | Loss: 1.1264 | Train error: 0.1385 | Test error: 0.1271 | Total run time: 79.1s\n",
      "Iteration 90000 | Loss: 1.2674 | Train error: 0.1335 | Test error: 0.1245 | Total run time: 87.4s\n",
      "Iteration 100000 | Loss: 1.2707 | Train error: 0.1434 | Test error: 0.1329 | Total run time: 95.5s\n"
     ]
    }
   ],
   "source": [
    "W_learned, b_learned, losses, train_errors, test_errors = learn_mnist(W=W1, b=b1, \n",
    "                                                                      max_iters=100000,\n",
    "                                                                      learning_rate=.5, \n",
    "                                                                      batch_size=100)"
   ]
  },
  {
   "cell_type": "code",
   "execution_count": 4,
   "metadata": {},
   "outputs": [
    {
     "data": {
      "image/png": "[encoded data removed]",
      "text/plain": [
       "<matplotlib.figure.Figure at 0x7f5b704f8a90>"
      ]
     },
     "metadata": {},
     "output_type": "display_data"
    }
   ],
   "source": [
    "plot_learning(losses[1:], train_errors, test_errors)"
   ]
  },
  {
   "cell_type": "code",
   "execution_count": null,
   "metadata": {
    "collapsed": true
   },
   "outputs": [],
   "source": []
  }
 ],
 "metadata": {
  "anaconda-cloud": {},
  "kernelspec": {
   "display_name": "Python [conda env:Python3]",
   "language": "python",
   "name": "conda-env-Python3-py"
  },
  "language_info": {
   "codemirror_mode": {
    "name": "ipython",
    "version": 3
   },
   "file_extension": ".py",
   "mimetype": "text/x-python",
   "name": "python",
   "nbconvert_exporter": "python",
   "pygments_lexer": "ipython3",
   "version": "3.6.1"
  }
 },
 "nbformat": 4,
 "nbformat_minor": 1
}
